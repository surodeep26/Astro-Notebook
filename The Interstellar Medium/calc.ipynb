{
 "cells": [
  {
   "cell_type": "code",
   "execution_count": 8,
   "metadata": {},
   "outputs": [],
   "source": [
    "class Car:\n",
    "    make = None\n",
    "    model = None\n",
    "    year = None\n",
    "    color = None\n",
    "\n",
    "    def __init__(self,make,model,color):\n",
    "        self.make = make\n",
    "        self.model = model\n",
    "        self.year = year\n",
    "        self.color = color\n",
    "\n",
    "    def drive(self):\n",
    "        print('This car is driving')\n",
    "    \n",
    "    def stop(self):\n",
    "        print('This car is stopped')\n",
    "\n",
    "    \n"
   ]
  },
  {
   "cell_type": "code",
   "execution_count": 9,
   "metadata": {},
   "outputs": [
    {
     "ename": "ModuleNotFoundError",
     "evalue": "No module named 'car'",
     "output_type": "error",
     "traceback": [
      "\u001b[1;31m---------------------------------------------------------------------------\u001b[0m",
      "\u001b[1;31mModuleNotFoundError\u001b[0m                       Traceback (most recent call last)",
      "\u001b[1;32mc:\\Users\\Surodeep\\Desktop\\first try\\The Interstellar Medium\\calc.ipynb Cell 2\u001b[0m line \u001b[0;36m1\n\u001b[1;32m----> <a href='vscode-notebook-cell:/c%3A/Users/Surodeep/Desktop/first%20try/The%20Interstellar%20Medium/calc.ipynb#W4sZmlsZQ%3D%3D?line=0'>1</a>\u001b[0m \u001b[39mfrom\u001b[39;00m \u001b[39mcar\u001b[39;00m \u001b[39mimport\u001b[39;00m Car\n\u001b[0;32m      <a href='vscode-notebook-cell:/c%3A/Users/Surodeep/Desktop/first%20try/The%20Interstellar%20Medium/calc.ipynb#W4sZmlsZQ%3D%3D?line=1'>2</a>\u001b[0m car_1 \u001b[39m=\u001b[39m Car(\u001b[39m'\u001b[39m\u001b[39mChevy\u001b[39m\u001b[39m'\u001b[39m,\u001b[39m'\u001b[39m\u001b[39mCorvette\u001b[39m\u001b[39m'\u001b[39m,\u001b[39m2021\u001b[39m,\u001b[39m'\u001b[39m\u001b[39mblue\u001b[39m\u001b[39m'\u001b[39m)\n\u001b[0;32m      <a href='vscode-notebook-cell:/c%3A/Users/Surodeep/Desktop/first%20try/The%20Interstellar%20Medium/calc.ipynb#W4sZmlsZQ%3D%3D?line=3'>4</a>\u001b[0m \u001b[39mprint\u001b[39m(car_1\u001b[39m.\u001b[39mmake)\n",
      "\u001b[1;31mModuleNotFoundError\u001b[0m: No module named 'car'"
     ]
    }
   ],
   "source": [
    "import Car\n",
    "car_1 = Car('Chevy','Corvette',2021,'blue')\n",
    "\n",
    "print(car_1.make)"
   ]
  }
 ],
 "metadata": {
  "kernelspec": {
   "display_name": "Python 3",
   "language": "python",
   "name": "python3"
  },
  "language_info": {
   "codemirror_mode": {
    "name": "ipython",
    "version": 3
   },
   "file_extension": ".py",
   "mimetype": "text/x-python",
   "name": "python",
   "nbconvert_exporter": "python",
   "pygments_lexer": "ipython3",
   "version": "3.10.9"
  },
  "orig_nbformat": 4
 },
 "nbformat": 4,
 "nbformat_minor": 2
}

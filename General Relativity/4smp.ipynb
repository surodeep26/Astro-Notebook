{
 "cells": [
  {
   "cell_type": "markdown",
   "metadata": {},
   "source": [
    "# Tangent Basis"
   ]
  },
  {
   "cell_type": "code",
   "execution_count": 65,
   "metadata": {},
   "outputs": [
    {
     "data": {
      "text/latex": [
       "$\\displaystyle \\vec{e}_u=\\left[\\begin{matrix}1\\\\1\\\\2 v\\end{matrix}\\right]$"
      ],
      "text/plain": [
       "<IPython.core.display.Math object>"
      ]
     },
     "metadata": {},
     "output_type": "display_data"
    },
    {
     "data": {
      "text/latex": [
       "$\\displaystyle \\vec{e}_v=\\left[\\begin{matrix}1\\\\-1\\\\2 u\\end{matrix}\\right]$"
      ],
      "text/plain": [
       "<IPython.core.display.Math object>"
      ]
     },
     "metadata": {},
     "output_type": "display_data"
    },
    {
     "data": {
      "text/latex": [
       "$\\displaystyle \\vec{e}_w=\\left[\\begin{matrix}0\\\\0\\\\1\\end{matrix}\\right]$"
      ],
      "text/plain": [
       "<IPython.core.display.Math object>"
      ]
     },
     "metadata": {},
     "output_type": "display_data"
    }
   ],
   "source": [
    "from sympy import *\n",
    "from IPython.display import display,Math\n",
    "\n",
    "def showeqn(symb,expr,format):\n",
    "    from IPython.display import display, Math\n",
    "    if format=='eqn':\n",
    "        return display(Math(f'{symb}={latex(expr)}'))\n",
    "    elif format=='latex':\n",
    "        return print(f'{latex(symb)}={latex(expr)}')\n",
    "    elif format=='both':\n",
    "        print(f'{latex(symb)}={latex(expr)}')\n",
    "        display(Math(f'{symb}={latex(expr)}'))\n",
    "        return \n",
    "\n",
    "x,y,z = symbols('x y z')\n",
    "# x,y,z = symbols('x y z', cls=Function)\n",
    "u,v,w = symbols('u v w')\n",
    "eu_,ev_,ew_ = symbols(r'\\vec{e}_u \\vec{e}_v \\vec{e}_w')\n",
    "eu,ev,ew = symbols(r'\\vec{e}^u \\vec{e}^v \\vec{e}^w')\n",
    "x = u+v\n",
    "y = u-v\n",
    "z = 2*u*v+w\n",
    "r_vec = symbols(r'\\vec{r}')\n",
    "r_vec = Matrix([x,y,z])\n",
    "showeqn(eu_,diff(r_vec,u),'eqn')\n",
    "showeqn(ev_,diff(r_vec,v),'eqn')\n",
    "showeqn(ew_,diff(r_vec,w),'eqn')"
   ]
  },
  {
   "cell_type": "markdown",
   "metadata": {},
   "source": [
    "## Norms"
   ]
  },
  {
   "cell_type": "code",
   "execution_count": 68,
   "metadata": {},
   "outputs": [
    {
     "data": {
      "text/latex": [
       "$\\displaystyle \\vec{e}_u \\cdot \\vec{e}_u = \\left[\\begin{matrix}1\\\\1\\\\2 v\\end{matrix}\\right]\\cdot\\left[\\begin{matrix}1\\\\1\\\\2 v\\end{matrix}\\right] = 4 v^{2} + 2$"
      ],
      "text/plain": [
       "<IPython.core.display.Math object>"
      ]
     },
     "metadata": {},
     "output_type": "display_data"
    },
    {
     "data": {
      "text/latex": [
       "$\\displaystyle \\vec{e}_v \\cdot \\vec{e}_v = \\left[\\begin{matrix}1\\\\-1\\\\2 u\\end{matrix}\\right]\\cdot\\left[\\begin{matrix}1\\\\-1\\\\2 u\\end{matrix}\\right] = 4 u^{2} + 2$"
      ],
      "text/plain": [
       "<IPython.core.display.Math object>"
      ]
     },
     "metadata": {},
     "output_type": "display_data"
    },
    {
     "data": {
      "text/latex": [
       "$\\displaystyle \\vec{e}_w \\cdot \\vec{e}_w = \\left[\\begin{matrix}0\\\\0\\\\1\\end{matrix}\\right]\\cdot\\left[\\begin{matrix}0\\\\0\\\\1\\end{matrix}\\right] = 1$"
      ],
      "text/plain": [
       "<IPython.core.display.Math object>"
      ]
     },
     "metadata": {},
     "output_type": "display_data"
    }
   ],
   "source": [
    "eu_symbol,ev_symbol,ew_symbol = symbols(r'\\vec{e}_u \\vec{e}_v \\vec{e}_w')\n",
    "\n",
    "\n",
    "eu_ = diff(r_vec,u)\n",
    "ev_ = diff(r_vec,v)\n",
    "ew_ = diff(r_vec,w)\n",
    "\n",
    "# eu_.dot(eu_)\n",
    "display(Math(f'{latex(eu_symbol)} \\cdot {latex(eu_symbol)} = {latex(eu_)}\\cdot{latex(eu_)} = {latex(eu_.dot(eu_))}'))\n",
    "display(Math(f'{latex(ev_symbol)} \\cdot {latex(ev_symbol)} = {latex(ev_)}\\cdot{latex(ev_)} = {latex(ev_.dot(ev_))}'))\n",
    "display(Math(f'{latex(ew_symbol)} \\cdot {latex(ew_symbol)} = {latex(ew_)}\\cdot{latex(ew_)} = {latex(ew_.dot(ew_))}'))"
   ]
  },
  {
   "cell_type": "markdown",
   "metadata": {},
   "source": [
    "## Orthogonality"
   ]
  },
  {
   "cell_type": "code",
   "execution_count": 69,
   "metadata": {},
   "outputs": [
    {
     "data": {
      "text/latex": [
       "$\\displaystyle \\vec{e}_u \\cdot \\vec{e}_v = \\left[\\begin{matrix}1\\\\1\\\\2 v\\end{matrix}\\right]\\cdot\\left[\\begin{matrix}1\\\\-1\\\\2 u\\end{matrix}\\right] = 4 u v$"
      ],
      "text/plain": [
       "<IPython.core.display.Math object>"
      ]
     },
     "metadata": {},
     "output_type": "display_data"
    },
    {
     "data": {
      "text/latex": [
       "$\\displaystyle \\vec{e}_v \\cdot \\vec{e}_w = \\left[\\begin{matrix}1\\\\-1\\\\2 u\\end{matrix}\\right]\\cdot\\left[\\begin{matrix}0\\\\0\\\\1\\end{matrix}\\right] = 2 u$"
      ],
      "text/plain": [
       "<IPython.core.display.Math object>"
      ]
     },
     "metadata": {},
     "output_type": "display_data"
    },
    {
     "data": {
      "text/latex": [
       "$\\displaystyle \\vec{e}_w \\cdot \\vec{e}_u = \\left[\\begin{matrix}0\\\\0\\\\1\\end{matrix}\\right]\\cdot\\left[\\begin{matrix}1\\\\1\\\\2 v\\end{matrix}\\right] = 2 v$"
      ],
      "text/plain": [
       "<IPython.core.display.Math object>"
      ]
     },
     "metadata": {},
     "output_type": "display_data"
    }
   ],
   "source": [
    "display(Math(f'{latex(eu_symbol)} \\cdot {latex(ev_symbol)} = {latex(eu_)}\\cdot{latex(ev_)} = {latex(eu_.dot(ev_))}'))\n",
    "display(Math(f'{latex(ev_symbol)} \\cdot {latex(ew_symbol)} = {latex(ev_)}\\cdot{latex(ew_)} = {latex(ev_.dot(ew_))}'))\n",
    "display(Math(f'{latex(ew_symbol)} \\cdot {latex(eu_symbol)} = {latex(ew_)}\\cdot{latex(eu_)} = {latex(ew_.dot(eu_))}'))"
   ]
  },
  {
   "cell_type": "markdown",
   "metadata": {},
   "source": [
    "# Dual Basis"
   ]
  },
  {
   "cell_type": "code",
   "execution_count": 8,
   "metadata": {},
   "outputs": [
    {
     "data": {
      "text/latex": [
       "$\\displaystyle u = \\frac{x + y}{2}$"
      ],
      "text/plain": [
       "Eq(u, (x + y)/2)"
      ]
     },
     "metadata": {},
     "output_type": "display_data"
    },
    {
     "data": {
      "text/latex": [
       "$\\displaystyle v = \\frac{x - y}{2}$"
      ],
      "text/plain": [
       "Eq(v, (x - y)/2)"
      ]
     },
     "metadata": {},
     "output_type": "display_data"
    },
    {
     "data": {
      "text/latex": [
       "$\\displaystyle w = - \\frac{x^{2} - y^{2} - 2 z}{2}$"
      ],
      "text/plain": [
       "Eq(w, -(x**2 - y**2 - 2*z)/2)"
      ]
     },
     "metadata": {},
     "output_type": "display_data"
    }
   ],
   "source": [
    "from sympy import *\n",
    "# Define the symbols\n",
    "u, v, w, x, y, z = symbols('u v w x y z')\n",
    "\n",
    "# Create the equations\n",
    "eq1 = Eq(x, u + v)\n",
    "eq2 = Eq(y, u - v)\n",
    "eq3 = Eq(z, 2*u*v + w)\n",
    "\n",
    "# Solve the equations for u, v, and w\n",
    "solutions = solve((eq1, eq2, eq3), (u, v, w))\n",
    "\n",
    "# Extract the solutions\n",
    "u_expr = solutions[0][0]\n",
    "v_expr = solutions[0][1]\n",
    "w_expr = solutions[0][2]\n",
    "eq1_ = Eq(u,u_expr)\n",
    "eq2_ = Eq(v,v_expr)\n",
    "eq3_ = Eq(w,w_expr)\n",
    "display(eq1_,eq2_,eq3_)\n"
   ]
  },
  {
   "cell_type": "code",
   "execution_count": 9,
   "metadata": {},
   "outputs": [
    {
     "data": {
      "text/latex": [
       "$\\displaystyle \\left[\\begin{matrix}\\vec{e}^u\\\\\\vec{e}^v\\\\\\vec{e}^w\\end{matrix}\\right]=\\left[\\begin{matrix}\\frac{\\hat{i}}{2} + \\frac{\\hat{j}}{2}\\\\\\frac{\\hat{i}}{2} - \\frac{\\hat{j}}{2}\\\\- \\hat{i} x + \\hat{j} y + \\hat{k}\\end{matrix}\\right]$"
      ],
      "text/plain": [
       "<IPython.core.display.Math object>"
      ]
     },
     "metadata": {},
     "output_type": "display_data"
    },
    {
     "data": {
      "text/latex": [
       "$\\displaystyle \\left[\\begin{matrix}\\vec{e}^u\\\\\\vec{e}^v\\\\\\vec{e}^w\\end{matrix}\\right]=\\left[\\begin{matrix}\\frac{\\hat{i}}{2} + \\frac{\\hat{j}}{2}\\\\\\frac{\\hat{i}}{2} - \\frac{\\hat{j}}{2}\\\\- \\hat{i} \\left(u + v\\right) + \\hat{j} \\left(u - v\\right) + \\hat{k}\\end{matrix}\\right]$"
      ],
      "text/plain": [
       "<IPython.core.display.Math object>"
      ]
     },
     "metadata": {},
     "output_type": "display_data"
    }
   ],
   "source": [
    "X = Matrix([x,y,z])\n",
    "i,j,k = symbols(r'\\hat{i} \\hat{j} \\hat{k}')\n",
    "b = Matrix([i,j,k])\n",
    "gradu = Matrix([diff(u_expr,x),diff(u_expr,y),diff(u_expr,z)])\n",
    "gradv = Matrix([diff(v_expr,x),diff(v_expr,y),diff(v_expr,z)])\n",
    "gradw = Matrix([diff(w_expr,x),diff(w_expr,y),diff(w_expr,z)])\n",
    "\n",
    "grad = Matrix([gradu.dot(b),gradv.dot(b),gradw.dot(b)])\n",
    "display(Math(f'{latex(Matrix([eu,ev,ew]))}={latex(grad)}'))\n",
    "display(Math(f'{latex(Matrix([eu,ev,ew]))}={latex(grad.subs([(x,u+v),(y,u-v),(z,2*u*v+w)]).subs([(x,u+v),(y,u-v),(z,2*u*v+w)]))}'))"
   ]
  }
 ],
 "metadata": {
  "kernelspec": {
   "display_name": "Python 3",
   "language": "python",
   "name": "python3"
  },
  "language_info": {
   "codemirror_mode": {
    "name": "ipython",
    "version": 3
   },
   "file_extension": ".py",
   "mimetype": "text/x-python",
   "name": "python",
   "nbconvert_exporter": "python",
   "pygments_lexer": "ipython3",
   "version": "3.10.9"
  }
 },
 "nbformat": 4,
 "nbformat_minor": 2
}

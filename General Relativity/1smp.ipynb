{
 "cells": [
  {
   "cell_type": "code",
   "execution_count": 29,
   "metadata": {},
   "outputs": [
    {
     "data": {
      "text/latex": [
       "$\\displaystyle \\vec{r}=\\left[\\begin{matrix}r \\sin{\\left(\\theta \\right)} \\cos{\\left(\\phi \\right)}\\\\r \\sin{\\left(\\phi \\right)} \\sin{\\left(\\theta \\right)}\\\\r \\cos{\\left(\\theta \\right)}\\end{matrix}\\right]$"
      ],
      "text/plain": [
       "<IPython.core.display.Math object>"
      ]
     },
     "metadata": {},
     "output_type": "display_data"
    },
    {
     "data": {
      "text/latex": [
       "$\\displaystyle \\frac{\\partial{\\vec{r}}}{\\partial{r}}=\\left[\\begin{matrix}\\sin{\\left(\\theta \\right)} \\cos{\\left(\\phi \\right)}\\\\\\sin{\\left(\\phi \\right)} \\sin{\\left(\\theta \\right)}\\\\\\cos{\\left(\\theta \\right)}\\end{matrix}\\right]$"
      ],
      "text/plain": [
       "<IPython.core.display.Math object>"
      ]
     },
     "metadata": {},
     "output_type": "display_data"
    },
    {
     "data": {
      "text/latex": [
       "$\\displaystyle \\frac{\\partial{\\vec{r}}}{\\partial{\\theta}}=\\left[\\begin{matrix}r \\cos{\\left(\\phi \\right)} \\cos{\\left(\\theta \\right)}\\\\r \\sin{\\left(\\phi \\right)} \\cos{\\left(\\theta \\right)}\\\\- r \\sin{\\left(\\theta \\right)}\\end{matrix}\\right]$"
      ],
      "text/plain": [
       "<IPython.core.display.Math object>"
      ]
     },
     "metadata": {},
     "output_type": "display_data"
    },
    {
     "data": {
      "text/latex": [
       "$\\displaystyle \\frac{\\partial{\\vec{r}}}{\\partial{\\phi}}=\\left[\\begin{matrix}- r \\sin{\\left(\\phi \\right)} \\sin{\\left(\\theta \\right)}\\\\r \\sin{\\left(\\theta \\right)} \\cos{\\left(\\phi \\right)}\\\\0\\end{matrix}\\right]$"
      ],
      "text/plain": [
       "<IPython.core.display.Math object>"
      ]
     },
     "metadata": {},
     "output_type": "display_data"
    }
   ],
   "source": [
    "from sympy import *\n",
    "from IPython.display import display,Math\n",
    "x,y,z = symbols(\"x y z\", cls=Function)\n",
    "r,theta,phi = symbols(r\"r \\theta \\phi\")\n",
    "r_vector_symbol = symbols(r\"\\vec{r}\")\n",
    "x = r*sin(theta)*cos(phi)\n",
    "y = r*sin(theta)*sin(phi)\n",
    "z = r*cos(theta)\n",
    "r_vector = Matrix([x,y,z])\n",
    "dr_vectordr_symbol = symbols(r'\\frac{\\partial{\\vec{r}}}{\\partial{r}}')\n",
    "dr_vectordtheta_symbol = symbols(r'\\frac{\\partial{\\vec{r}}}{\\partial{\\theta}}')\n",
    "dr_vectordphi_symbol = symbols(r'\\frac{\\partial{\\vec{r}}}{\\partial{\\phi}}')\n",
    "dr_vectordr = diff(r_vector,r)\n",
    "dr_vectordtheta = diff(r_vector,theta)\n",
    "dr_vectordphi = diff(r_vector,phi)\n",
    "display(Math(f'{r_vector_symbol}={latex(r_vector)}'))\n",
    "display(Math(f'{dr_vectordr_symbol}={latex(dr_vectordr)}'))\n",
    "display(Math(f'{dr_vectordtheta_symbol}={latex(dr_vectordtheta)}'))\n",
    "display(Math(f'{dr_vectordphi_symbol}={latex(dr_vectordphi)}'))"
   ]
  },
  {
   "cell_type": "code",
   "execution_count": 16,
   "metadata": {},
   "outputs": [
    {
     "name": "stdout",
     "output_type": "stream",
     "text": [
      "False 1 0.33999999999999997\n",
      "False 2 0.304\n",
      "False 3 0.3004\n",
      "False 4 0.30004\n",
      "False 5 0.300004\n",
      "False 6 0.3000004\n",
      "False 7 0.30000003999999997\n",
      "False 8 0.300000004\n",
      "False 9 0.30000000039999997\n",
      "False 10 0.30000000004\n",
      "False 11 0.300000000004\n",
      "False 12 0.3000000000004\n",
      "False 13 0.30000000000004\n",
      "False 14 0.300000000000004\n",
      "False 15 0.3000000000000004\n",
      "True 16 0.30000000000000004\n",
      "False 17 0.3\n",
      "False 18 0.3\n"
     ]
    }
   ],
   "source": [
    "for i in range(1,19):\n",
    "    print(0.1+0.2==(0.3+0.4/(10**i)),i,0.3+0.4/(10**i))"
   ]
  }
 ],
 "metadata": {
  "kernelspec": {
   "display_name": "Python 3",
   "language": "python",
   "name": "python3"
  },
  "language_info": {
   "codemirror_mode": {
    "name": "ipython",
    "version": 3
   },
   "file_extension": ".py",
   "mimetype": "text/x-python",
   "name": "python",
   "nbconvert_exporter": "python",
   "pygments_lexer": "ipython3",
   "version": "3.10.9"
  }
 },
 "nbformat": 4,
 "nbformat_minor": 2
}

{
 "cells": [
  {
   "cell_type": "code",
   "execution_count": 167,
   "metadata": {},
   "outputs": [
    {
     "name": "stdout",
     "output_type": "stream",
     "text": [
      "\\left[\\begin{matrix}1 & 0\\\\- v & 1\\end{matrix}\\right]\n",
      "\\left[\\begin{matrix}1 & 0\\\\v & 1\\end{matrix}\\right]\n",
      "\\left[\\begin{matrix}x\\\\t\\end{matrix}\\right]\n",
      "\\left[\\begin{matrix}x'\\\\t'\\end{matrix}\\right]\n"
     ]
    }
   ],
   "source": [
    "import sympy as sp\n",
    "import numpy as np\n",
    "import matplotlib.pyplot as plt\n",
    "from sympy import Matrix, print_latex\n",
    "\n",
    "\n",
    "c,v,x,y,z,t,xd,yd,zd,td = sp.symbols(\"c v x y z t x' y' z' t'\")\n",
    "M = Matrix([[2,3],\n",
    "               [1,2]])\n",
    "Sd = Matrix([c*td,xd])\n",
    "S = sp.Matrix([c*t,x])\n",
    "A,B,C,D = sp.symbols('A,B,C,D')\n",
    "GT = Matrix([[1,0],[-v,1]])\n",
    "print_latex(GT)\n",
    "print_latex(GT.inv())\n",
    "\n",
    "e1 = sp.symbols(r'\\vec{e_1}')\n",
    "print_latex(Matrix([x, t]))\n",
    "print_latex(Matrix([xd, td]))"
   ]
  },
  {
   "cell_type": "code",
   "execution_count": 168,
   "metadata": {},
   "outputs": [
    {
     "data": {
      "text/latex": [
       "$\\displaystyle \\left[\\begin{matrix}\\gamma & - \\beta \\gamma & 0 & 0\\\\- \\beta \\gamma & \\gamma & 0 & 0\\\\0 & 0 & 1 & 0\\\\0 & 0 & 0 & 1\\end{matrix}\\right]$"
      ],
      "text/plain": [
       "Matrix([\n",
       "[       \\gamma, -\\beta*\\gamma, 0, 0],\n",
       "[-\\beta*\\gamma,        \\gamma, 0, 0],\n",
       "[            0,             0, 1, 0],\n",
       "[            0,             0, 0, 1]])"
      ]
     },
     "execution_count": 168,
     "metadata": {},
     "output_type": "execute_result"
    }
   ],
   "source": [
    "beta,betax,betay,betaz,gamma,vx,vy,vz = sp.symbols(r'\\beta \\beta_x \\beta_y \\beta_z \\gamma v_x v_y v_z')\n",
    "L = Matrix([[gamma, -gamma*betax, -gamma*betay, -gamma*betaz],\n",
    "            [-gamma*betax, 1+(gamma-1)*betax**2/beta**2,(gamma-1)*betax*betay/beta**2,(gamma-1)*betax*betaz/beta**2],\n",
    "            [-gamma*betay,(gamma-1)*betax*betay/beta**2,1+(gamma-1)*betay**2/beta**2,(gamma-1)*betay*betaz/beta**2],\n",
    "            [-gamma*betaz,(gamma-1)*betax*betaz/beta**2,(gamma-1)*betay*betaz/beta**2,1+(gamma-1)*betaz**2/beta**2]])\n",
    "L.subs([(betay,0),(betaz,0),(betax,beta)])"
   ]
  },
  {
   "cell_type": "code",
   "execution_count": 169,
   "metadata": {},
   "outputs": [
    {
     "data": {
      "text/latex": [
       "$\\displaystyle \\left[\\begin{matrix}t'\\\\x'\\\\y'\\\\z'\\end{matrix}\\right] = \\left[\\begin{matrix}\\gamma & - \\beta_{x} \\gamma & - \\beta_{y} \\gamma & - \\beta_{z} \\gamma\\\\- \\beta_{x} \\gamma & 1 + \\frac{\\beta_{x}^{2} \\left(\\gamma - 1\\right)}{\\beta^{2}} & \\frac{\\beta_{x} \\beta_{y} \\left(\\gamma - 1\\right)}{\\beta^{2}} & \\frac{\\beta_{x} \\beta_{z} \\left(\\gamma - 1\\right)}{\\beta^{2}}\\\\- \\beta_{y} \\gamma & \\frac{\\beta_{x} \\beta_{y} \\left(\\gamma - 1\\right)}{\\beta^{2}} & 1 + \\frac{\\beta_{y}^{2} \\left(\\gamma - 1\\right)}{\\beta^{2}} & \\frac{\\beta_{y} \\beta_{z} \\left(\\gamma - 1\\right)}{\\beta^{2}}\\\\- \\beta_{z} \\gamma & \\frac{\\beta_{x} \\beta_{z} \\left(\\gamma - 1\\right)}{\\beta^{2}} & \\frac{\\beta_{y} \\beta_{z} \\left(\\gamma - 1\\right)}{\\beta^{2}} & 1 + \\frac{\\beta_{z}^{2} \\left(\\gamma - 1\\right)}{\\beta^{2}}\\end{matrix}\\right]\\left[\\begin{matrix}t\\\\x\\\\y\\\\z\\end{matrix}\\right]$"
      ],
      "text/plain": [
       "<IPython.core.display.Math object>"
      ]
     },
     "metadata": {},
     "output_type": "display_data"
    },
    {
     "name": "stdout",
     "output_type": "stream",
     "text": [
      "\\left[\\begin{matrix}t'\\\\x'\\\\y'\\\\z'\\end{matrix}\\right] = \\left[\\begin{matrix}\\gamma & - \\beta_{x} \\gamma & - \\beta_{y} \\gamma & - \\beta_{z} \\gamma\\\\- \\beta_{x} \\gamma & 1 + \\frac{\\beta_{x}^{2} \\left(\\gamma - 1\\right)}{\\beta^{2}} & \\frac{\\beta_{x} \\beta_{y} \\left(\\gamma - 1\\right)}{\\beta^{2}} & \\frac{\\beta_{x} \\beta_{z} \\left(\\gamma - 1\\right)}{\\beta^{2}}\\\\- \\beta_{y} \\gamma & \\frac{\\beta_{x} \\beta_{y} \\left(\\gamma - 1\\right)}{\\beta^{2}} & 1 + \\frac{\\beta_{y}^{2} \\left(\\gamma - 1\\right)}{\\beta^{2}} & \\frac{\\beta_{y} \\beta_{z} \\left(\\gamma - 1\\right)}{\\beta^{2}}\\\\- \\beta_{z} \\gamma & \\frac{\\beta_{x} \\beta_{z} \\left(\\gamma - 1\\right)}{\\beta^{2}} & \\frac{\\beta_{y} \\beta_{z} \\left(\\gamma - 1\\right)}{\\beta^{2}} & 1 + \\frac{\\beta_{z}^{2} \\left(\\gamma - 1\\right)}{\\beta^{2}}\\end{matrix}\\right]\\left[\\begin{matrix}t\\\\x\\\\y\\\\z\\end{matrix}\\right]\n"
     ]
    }
   ],
   "source": [
    "from sympy import *\n",
    "from IPython.display import display,Math\n",
    "t,x,y,z,td,xd,yd,zd = symbols(\"t x y z t' x' y' z'\")\n",
    "S = Matrix([t,x,y,z])\n",
    "Sd = Matrix([td,xd,yd,zd])\n",
    "display(Math(f'{latex(Sd)} = {latex(L)}{latex(S)}'))\n",
    "print(f'{latex(Sd)} = {latex(L)}{latex(S)}')"
   ]
  },
  {
   "cell_type": "code",
   "execution_count": 170,
   "metadata": {},
   "outputs": [
    {
     "data": {
      "text/latex": [
       "$\\displaystyle \\left[\\begin{matrix}\\sin{\\left(\\theta \\right)} \\cos{\\left(\\phi \\right)}\\\\\\sin{\\left(\\phi \\right)} \\sin{\\left(\\theta \\right)}\\\\\\cos{\\left(\\theta \\right)}\\end{matrix}\\right]$"
      ],
      "text/plain": [
       "Matrix([\n",
       "[sin(\\theta)*cos(\\phi)],\n",
       "[sin(\\phi)*sin(\\theta)],\n",
       "[          cos(\\theta)]])"
      ]
     },
     "metadata": {},
     "output_type": "display_data"
    },
    {
     "data": {
      "text/latex": [
       "$\\displaystyle \\left[\\begin{matrix}r \\cos{\\left(\\phi \\right)} \\cos{\\left(\\theta \\right)}\\\\r \\sin{\\left(\\phi \\right)} \\cos{\\left(\\theta \\right)}\\\\- r \\sin{\\left(\\theta \\right)}\\end{matrix}\\right]$"
      ],
      "text/plain": [
       "Matrix([\n",
       "[r*cos(\\phi)*cos(\\theta)],\n",
       "[r*sin(\\phi)*cos(\\theta)],\n",
       "[         -r*sin(\\theta)]])"
      ]
     },
     "metadata": {},
     "output_type": "display_data"
    }
   ],
   "source": [
    "from sympy import *\n",
    "from IPython.display import display\n",
    "x,y,z = symbols(\"x y z\", cls=Function)\n",
    "u,v,w = symbols(\"u v w\")    \n",
    "r,theta,phi = symbols(r\"r \\theta \\phi\")\n",
    "r_vector = symbols(r\"\\vec{r}\")\n",
    "x = r*sin(theta)*cos(phi)\n",
    "y = r*sin(theta)*sin(phi)\n",
    "z = r*cos(theta)\n",
    "r_vector = Matrix([x,y,z])\n",
    "display(diff(r_vector,r),diff(r_vector,theta))"
   ]
  },
  {
   "cell_type": "code",
   "execution_count": 171,
   "metadata": {},
   "outputs": [
    {
     "data": {
      "text/latex": [
       "$\\displaystyle \\vec{r}=\\left[\\begin{matrix}r \\sin{\\left(\\theta \\right)} \\cos{\\left(\\phi \\right)}\\\\r \\sin{\\left(\\phi \\right)} \\sin{\\left(\\theta \\right)}\\\\r \\cos{\\left(\\theta \\right)}\\end{matrix}\\right]$"
      ],
      "text/plain": [
       "<IPython.core.display.Math object>"
      ]
     },
     "metadata": {},
     "output_type": "display_data"
    },
    {
     "data": {
      "text/latex": [
       "$\\displaystyle \\frac{\\partial{\\vec{r}}}{\\partial{r}}=\\left[\\begin{matrix}\\sin{\\left(\\theta \\right)} \\cos{\\left(\\phi \\right)}\\\\\\sin{\\left(\\phi \\right)} \\sin{\\left(\\theta \\right)}\\\\\\cos{\\left(\\theta \\right)}\\end{matrix}\\right]$"
      ],
      "text/plain": [
       "<IPython.core.display.Math object>"
      ]
     },
     "metadata": {},
     "output_type": "display_data"
    },
    {
     "data": {
      "text/latex": [
       "$\\displaystyle \\frac{\\partial{\\vec{r}}}{\\partial{\\theta}}=\\left[\\begin{matrix}r \\cos{\\left(\\phi \\right)} \\cos{\\left(\\theta \\right)}\\\\r \\sin{\\left(\\phi \\right)} \\cos{\\left(\\theta \\right)}\\\\- r \\sin{\\left(\\theta \\right)}\\end{matrix}\\right]$"
      ],
      "text/plain": [
       "<IPython.core.display.Math object>"
      ]
     },
     "metadata": {},
     "output_type": "display_data"
    },
    {
     "data": {
      "text/latex": [
       "$\\displaystyle \\frac{\\partial{\\vec{r}}}{\\partial{\\phi}}=\\left[\\begin{matrix}- r \\sin{\\left(\\phi \\right)} \\sin{\\left(\\theta \\right)}\\\\r \\sin{\\left(\\theta \\right)} \\cos{\\left(\\phi \\right)}\\\\0\\end{matrix}\\right]$"
      ],
      "text/plain": [
       "<IPython.core.display.Math object>"
      ]
     },
     "metadata": {},
     "output_type": "display_data"
    }
   ],
   "source": [
    "from sympy import *\n",
    "from IPython.display import display,Math\n",
    "x,y,z = symbols(\"x y z\", cls=Function)\n",
    "r,theta,phi = symbols(r\"r \\theta \\phi\")\n",
    "r_vector_symbol = symbols(r\"\\vec{r}\")\n",
    "x = r*sin(theta)*cos(phi)\n",
    "y = r*sin(theta)*sin(phi)\n",
    "z = r*cos(theta)\n",
    "r_vector = Matrix([x,y,z])\n",
    "dr_vectordr_symbol = symbols(r'\\frac{\\partial{\\vec{r}}}{\\partial{r}}')\n",
    "dr_vectordtheta_symbol = symbols(r'\\frac{\\partial{\\vec{r}}}{\\partial{\\theta}}')\n",
    "dr_vectordphi_symbol = symbols(r'\\frac{\\partial{\\vec{r}}}{\\partial{\\phi}}')\n",
    "dr_vectordr = diff(r_vector,r)\n",
    "dr_vectordtheta = diff(r_vector,theta)\n",
    "dr_vectordphi = diff(r_vector,phi)\n",
    "display(Math(f'{r_vector_symbol}={latex(r_vector)}'))\n",
    "display(Math(f'{dr_vectordr_symbol}={latex(dr_vectordr)}'))\n",
    "display(Math(f'{dr_vectordtheta_symbol}={latex(dr_vectordtheta)}'))\n",
    "display(Math(f'{dr_vectordphi_symbol}={latex(dr_vectordphi)}'))"
   ]
  },
  {
   "cell_type": "code",
   "execution_count": 172,
   "metadata": {},
   "outputs": [
    {
     "name": "stdout",
     "output_type": "stream",
     "text": [
      "\\frac{\\partial{\\vec{r}}}{\\partial{r}}=\\left[\\begin{matrix}\\sin{\\left(\\theta \\right)} \\cos{\\left(\\phi \\right)}\\\\\\sin{\\left(\\phi \\right)} \\sin{\\left(\\theta \\right)}\\\\\\cos{\\left(\\theta \\right)}\\end{matrix}\\right]\n"
     ]
    },
    {
     "data": {
      "text/latex": [
       "$\\displaystyle \\frac{\\partial{\\vec{r}}}{\\partial{r}}=\\left[\\begin{matrix}\\sin{\\left(\\theta \\right)} \\cos{\\left(\\phi \\right)}\\\\\\sin{\\left(\\phi \\right)} \\sin{\\left(\\theta \\right)}\\\\\\cos{\\left(\\theta \\right)}\\end{matrix}\\right]$"
      ],
      "text/plain": [
       "<IPython.core.display.Math object>"
      ]
     },
     "metadata": {},
     "output_type": "display_data"
    },
    {
     "name": "stdout",
     "output_type": "stream",
     "text": [
      "\\frac{\\partial{\\vec{r}}}{\\partial{\\theta}}=\\left[\\begin{matrix}r \\cos{\\left(\\phi \\right)} \\cos{\\left(\\theta \\right)}\\\\r \\sin{\\left(\\phi \\right)} \\cos{\\left(\\theta \\right)}\\\\- r \\sin{\\left(\\theta \\right)}\\end{matrix}\\right]\n"
     ]
    },
    {
     "data": {
      "text/latex": [
       "$\\displaystyle \\frac{\\partial{\\vec{r}}}{\\partial{\\theta}}=\\left[\\begin{matrix}r \\cos{\\left(\\phi \\right)} \\cos{\\left(\\theta \\right)}\\\\r \\sin{\\left(\\phi \\right)} \\cos{\\left(\\theta \\right)}\\\\- r \\sin{\\left(\\theta \\right)}\\end{matrix}\\right]$"
      ],
      "text/plain": [
       "<IPython.core.display.Math object>"
      ]
     },
     "metadata": {},
     "output_type": "display_data"
    },
    {
     "name": "stdout",
     "output_type": "stream",
     "text": [
      "\\frac{\\partial{\\vec{r}}}{\\partial{\\phi}}=\\left[\\begin{matrix}- r \\sin{\\left(\\phi \\right)} \\sin{\\left(\\theta \\right)}\\\\r \\sin{\\left(\\theta \\right)} \\cos{\\left(\\phi \\right)}\\\\0\\end{matrix}\\right]\n"
     ]
    },
    {
     "data": {
      "text/latex": [
       "$\\displaystyle \\frac{\\partial{\\vec{r}}}{\\partial{\\phi}}=\\left[\\begin{matrix}- r \\sin{\\left(\\phi \\right)} \\sin{\\left(\\theta \\right)}\\\\r \\sin{\\left(\\theta \\right)} \\cos{\\left(\\phi \\right)}\\\\0\\end{matrix}\\right]$"
      ],
      "text/plain": [
       "<IPython.core.display.Math object>"
      ]
     },
     "metadata": {},
     "output_type": "display_data"
    }
   ],
   "source": [
    "def showeqn(symb,expr,format):\n",
    "    from IPython.display import display, Math\n",
    "    if format=='eqn':\n",
    "        return display(Math(f'{symb}={latex(expr)}'))\n",
    "    elif format=='latex':\n",
    "        return print(f'{latex(symb)}={latex(expr)}')\n",
    "    elif format=='both':\n",
    "        print(f'{latex(symb)}={latex(expr)}')\n",
    "        display(Math(f'{symb}={latex(expr)}'))\n",
    "        return \n",
    "\n",
    "showeqn(dr_vectordr_symbol,dr_vectordr,'both')\n",
    "showeqn(dr_vectordtheta_symbol,dr_vectordtheta,'both')\n",
    "showeqn(dr_vectordphi_symbol,dr_vectordphi,'both')\n",
    "    "
   ]
  },
  {
   "cell_type": "code",
   "execution_count": 173,
   "metadata": {},
   "outputs": [
    {
     "name": "stdout",
     "output_type": "stream",
     "text": [
      "\\vec{e}_r=\\left[\\begin{matrix}\\sin{\\left(\\theta \\right)} \\cos{\\left(\\phi \\right)}\\\\\\sin{\\left(\\phi \\right)} \\sin{\\left(\\theta \\right)}\\\\\\cos{\\left(\\theta \\right)}\\end{matrix}\\right]\n"
     ]
    },
    {
     "data": {
      "text/latex": [
       "$\\displaystyle \\vec{e}_r=\\left[\\begin{matrix}\\sin{\\left(\\theta \\right)} \\cos{\\left(\\phi \\right)}\\\\\\sin{\\left(\\phi \\right)} \\sin{\\left(\\theta \\right)}\\\\\\cos{\\left(\\theta \\right)}\\end{matrix}\\right]$"
      ],
      "text/plain": [
       "<IPython.core.display.Math object>"
      ]
     },
     "metadata": {},
     "output_type": "display_data"
    },
    {
     "name": "stdout",
     "output_type": "stream",
     "text": [
      "\\vec{e}_\\theta=\\left[\\begin{matrix}\\cos{\\left(\\phi \\right)} \\cos{\\left(\\theta \\right)}\\\\\\sin{\\left(\\phi \\right)} \\cos{\\left(\\theta \\right)}\\\\- \\sin{\\left(\\theta \\right)}\\end{matrix}\\right]\n"
     ]
    },
    {
     "data": {
      "text/latex": [
       "$\\displaystyle \\vec{e}_\\theta=\\left[\\begin{matrix}\\cos{\\left(\\phi \\right)} \\cos{\\left(\\theta \\right)}\\\\\\sin{\\left(\\phi \\right)} \\cos{\\left(\\theta \\right)}\\\\- \\sin{\\left(\\theta \\right)}\\end{matrix}\\right]$"
      ],
      "text/plain": [
       "<IPython.core.display.Math object>"
      ]
     },
     "metadata": {},
     "output_type": "display_data"
    },
    {
     "name": "stdout",
     "output_type": "stream",
     "text": [
      "\\vec{e}_\\phi=\\left[\\begin{matrix}- \\sin{\\left(\\phi \\right)}\\\\\\cos{\\left(\\phi \\right)}\\\\0\\end{matrix}\\right]\n"
     ]
    },
    {
     "data": {
      "text/latex": [
       "$\\displaystyle \\vec{e}_\\phi=\\left[\\begin{matrix}- \\sin{\\left(\\phi \\right)}\\\\\\cos{\\left(\\phi \\right)}\\\\0\\end{matrix}\\right]$"
      ],
      "text/plain": [
       "<IPython.core.display.Math object>"
      ]
     },
     "metadata": {},
     "output_type": "display_data"
    }
   ],
   "source": [
    "from sympy import *\n",
    "from IPython.display import display,Math\n",
    "x,y,z = symbols(\"x y z\", cls=Function)\n",
    "r,theta,phi = symbols(r\"r \\theta \\phi\")\n",
    "r_vector_symbol = symbols(r\"\\vec{r}\")\n",
    "x = r*sin(theta)*cos(phi)\n",
    "y = r*sin(theta)*sin(phi)\n",
    "z = r*cos(theta)\n",
    "r_vector = Matrix([x,y,z])\n",
    "dr_vectordr_symbol = symbols(r'\\frac{\\partial{\\vec{r}}}{\\partial{r}}')\n",
    "dr_vectordtheta_symbol = symbols(r'\\frac{\\partial{\\vec{r}}}{\\partial{\\theta}}')\n",
    "dr_vectordphi_symbol = symbols(r'\\frac{\\partial{\\vec{r}}}{\\partial{\\phi}}')\n",
    "dr_vectordr = diff(r_vector,r)\n",
    "dr_vectordtheta = diff(r_vector,theta)\n",
    "dr_vectordphi = diff(r_vector,phi)\n",
    "\n",
    "er_symbol, etheta_symbol, ephi_symbol = symbols(r'\\vec{e}_r \\vec{e}_\\theta \\vec{e}_\\phi')\n",
    "er = dr_vectordr\n",
    "etheta = dr_vectordtheta\n",
    "ephi = dr_vectordphi\n",
    "\n",
    "showeqn(er_symbol,er,'both')\n",
    "showeqn(etheta_symbol,etheta/r,'both')\n",
    "showeqn(ephi_symbol,ephi/(r*sin(theta)),'both')"
   ]
  },
  {
   "cell_type": "code",
   "execution_count": 174,
   "metadata": {},
   "outputs": [
    {
     "data": {
      "text/latex": [
       "$\\displaystyle \\vec{e}_u=\\left[\\begin{matrix}1\\\\1\\\\2 v\\end{matrix}\\right]$"
      ],
      "text/plain": [
       "<IPython.core.display.Math object>"
      ]
     },
     "metadata": {},
     "output_type": "display_data"
    },
    {
     "data": {
      "text/latex": [
       "$\\displaystyle \\vec{e}_v=\\left[\\begin{matrix}1\\\\-1\\\\2 u\\end{matrix}\\right]$"
      ],
      "text/plain": [
       "<IPython.core.display.Math object>"
      ]
     },
     "metadata": {},
     "output_type": "display_data"
    },
    {
     "data": {
      "text/latex": [
       "$\\displaystyle \\vec{e}_w=\\left[\\begin{matrix}0\\\\0\\\\1\\end{matrix}\\right]$"
      ],
      "text/plain": [
       "<IPython.core.display.Math object>"
      ]
     },
     "metadata": {},
     "output_type": "display_data"
    }
   ],
   "source": [
    "from sympy import *\n",
    "from IPython.display import display,Math\n",
    "x,y,z = symbols('x y z')\n",
    "# x,y,z = symbols('x y z', cls=Function)\n",
    "u,v,w = symbols('u v w')\n",
    "eu_,ev_,ew_ = symbols(r'\\vec{e}_u \\vec{e}_v \\vec{e}_w')\n",
    "eu,ev,ew = symbols(r'\\vec{e}^u \\vec{e}^v \\vec{e}^w')\n",
    "x = u+v\n",
    "y = u-v\n",
    "z = 2*u*v+w\n",
    "r_vec = symbols(r'\\vec{r}')\n",
    "r_vec = Matrix([x,y,z])\n",
    "showeqn(eu_,diff(r_vec,u),'eqn')\n",
    "showeqn(ev_,diff(r_vec,v),'eqn')\n",
    "showeqn(ew_,diff(r_vec,w),'eqn')"
   ]
  },
  {
   "cell_type": "code",
   "execution_count": 188,
   "metadata": {},
   "outputs": [
    {
     "data": {
      "text/latex": [
       "$\\displaystyle \\vec{e}_u \\cdot \\vec{e}_u = \\left[\\begin{matrix}1\\\\1\\\\2 v\\end{matrix}\\right]\\cdot\\left[\\begin{matrix}1\\\\1\\\\2 v\\end{matrix}\\right] = 4 v^{2} + 2$"
      ],
      "text/plain": [
       "<IPython.core.display.Math object>"
      ]
     },
     "metadata": {},
     "output_type": "display_data"
    },
    {
     "data": {
      "text/latex": [
       "$\\displaystyle \\vec{e}_v \\cdot \\vec{e}_v = \\left[\\begin{matrix}1\\\\-1\\\\2 u\\end{matrix}\\right]\\cdot\\left[\\begin{matrix}1\\\\-1\\\\2 u\\end{matrix}\\right] = 4 u^{2} + 2$"
      ],
      "text/plain": [
       "<IPython.core.display.Math object>"
      ]
     },
     "metadata": {},
     "output_type": "display_data"
    },
    {
     "data": {
      "text/latex": [
       "$\\displaystyle \\vec{e}_w \\cdot \\vec{e}_w = \\left[\\begin{matrix}0\\\\0\\\\1\\end{matrix}\\right]\\cdot\\left[\\begin{matrix}0\\\\0\\\\1\\end{matrix}\\right] = 1$"
      ],
      "text/plain": [
       "<IPython.core.display.Math object>"
      ]
     },
     "metadata": {},
     "output_type": "display_data"
    }
   ],
   "source": [
    "\n",
    "\n",
    "eu_symbol,ev_symbol,ew_symbol = symbols(r'\\vec{e}_u \\vec{e}_v \\vec{e}_w')\n",
    "\n",
    "\n",
    "eu_ = diff(r_vec,u)\n",
    "ev_ = diff(r_vec,v)\n",
    "ew_ = diff(r_vec,w)\n",
    "\n",
    "# eu_.dot(eu_)\n",
    "display(Math(f'{latex(eu_symbol)} \\cdot {latex(eu_symbol)} = {latex(eu_)}\\cdot{latex(eu_)} = {latex(eu_.dot(eu_))}'))\n",
    "display(Math(f'{latex(ev_symbol)} \\cdot {latex(ev_symbol)} = {latex(ev_)}\\cdot{latex(ev_)} = {latex(ev_.dot(ev_))}'))\n",
    "display(Math(f'{latex(ew_symbol)} \\cdot {latex(ew_symbol)} = {latex(ew_)}\\cdot{latex(ew_)} = {latex(ew_.dot(ew_))}'))"
   ]
  },
  {
   "cell_type": "code",
   "execution_count": 189,
   "metadata": {},
   "outputs": [
    {
     "name": "stdout",
     "output_type": "stream",
     "text": [
      "\\vec{e}_u \\cdot \\vec{e}_v = \\left[\\begin{matrix}1\\\\1\\\\2 v\\end{matrix}\\right]\\cdot\\left[\\begin{matrix}1\\\\-1\\\\2 u\\end{matrix}\\right] = 4 u v\n"
     ]
    }
   ],
   "source": [
    "print(f'{latex(eu_symbol)} \\cdot {latex(ev_symbol)} = {latex(eu_)}\\cdot{latex(ev_)} = {latex(eu_.dot(ev_))}')"
   ]
  },
  {
   "cell_type": "code",
   "execution_count": 175,
   "metadata": {},
   "outputs": [
    {
     "data": {
      "text/latex": [
       "$\\displaystyle u = \\frac{x + y}{2}$"
      ],
      "text/plain": [
       "Eq(u, (x + y)/2)"
      ]
     },
     "metadata": {},
     "output_type": "display_data"
    },
    {
     "data": {
      "text/latex": [
       "$\\displaystyle v = \\frac{x - y}{2}$"
      ],
      "text/plain": [
       "Eq(v, (x - y)/2)"
      ]
     },
     "metadata": {},
     "output_type": "display_data"
    },
    {
     "data": {
      "text/latex": [
       "$\\displaystyle w = - \\frac{x^{2} - y^{2} - 2 z}{2}$"
      ],
      "text/plain": [
       "Eq(w, -(x**2 - y**2 - 2*z)/2)"
      ]
     },
     "metadata": {},
     "output_type": "display_data"
    }
   ],
   "source": [
    "from sympy import *\n",
    "# Define the symbols\n",
    "u, v, w, x, y, z = sp.symbols('u v w x y z')\n",
    "\n",
    "# Create the equations\n",
    "eq1 = sp.Eq(x, u + v)\n",
    "eq2 = sp.Eq(y, u - v)\n",
    "eq3 = sp.Eq(z, 2*u*v + w)\n",
    "\n",
    "# Solve the equations for u, v, and w\n",
    "solutions = sp.solve((eq1, eq2, eq3), (u, v, w))\n",
    "\n",
    "# Extract the solutions\n",
    "u_expr = solutions[0][0]\n",
    "v_expr = solutions[0][1]\n",
    "w_expr = solutions[0][2]\n",
    "eq1_ = sp.Eq(u,u_expr)\n",
    "eq2_ = sp.Eq(v,v_expr)\n",
    "eq3_ = sp.Eq(w,w_expr)\n",
    "display(eq1_,eq2_,eq3_)\n"
   ]
  },
  {
   "cell_type": "code",
   "execution_count": 176,
   "metadata": {},
   "outputs": [
    {
     "data": {
      "text/latex": [
       "$\\displaystyle \\left[\\begin{matrix}\\vec{e}^u\\\\\\vec{e}^v\\\\\\vec{e}^w\\end{matrix}\\right]=\\left[\\begin{matrix}\\frac{\\hat{i}}{2} + \\frac{\\hat{j}}{2}\\\\\\frac{\\hat{i}}{2} - \\frac{\\hat{j}}{2}\\\\- \\hat{i} x + \\hat{j} y + \\hat{k}\\end{matrix}\\right]$"
      ],
      "text/plain": [
       "<IPython.core.display.Math object>"
      ]
     },
     "metadata": {},
     "output_type": "display_data"
    },
    {
     "data": {
      "text/latex": [
       "$\\displaystyle \\left[\\begin{matrix}\\vec{e}^u\\\\\\vec{e}^v\\\\\\vec{e}^w\\end{matrix}\\right]=\\left[\\begin{matrix}\\frac{\\hat{i}}{2} + \\frac{\\hat{j}}{2}\\\\\\frac{\\hat{i}}{2} - \\frac{\\hat{j}}{2}\\\\- \\hat{i} \\left(u + v\\right) + \\hat{j} \\left(u - v\\right) + \\hat{k}\\end{matrix}\\right]$"
      ],
      "text/plain": [
       "<IPython.core.display.Math object>"
      ]
     },
     "metadata": {},
     "output_type": "display_data"
    }
   ],
   "source": [
    "X = Matrix([x,y,z])\n",
    "i,j,k = symbols(r'\\hat{i} \\hat{j} \\hat{k}')\n",
    "b = Matrix([i,j,k])\n",
    "gradu = Matrix([diff(u_expr,x),diff(u_expr,y),diff(u_expr,z)])\n",
    "gradv = Matrix([diff(v_expr,x),diff(v_expr,y),diff(v_expr,z)])\n",
    "gradw = Matrix([diff(w_expr,x),diff(w_expr,y),diff(w_expr,z)])\n",
    "\n",
    "grad = Matrix([gradu.dot(b),gradv.dot(b),gradw.dot(b)])\n",
    "display(Math(f'{latex(Matrix([eu,ev,ew]))}={latex(grad)}'))\n",
    "display(Math(f'{latex(Matrix([eu,ev,ew]))}={latex(grad.subs([(x,u+v),(y,u-v),(z,2*u*v+w)]).subs([(x,u+v),(y,u-v),(z,2*u*v+w)]))}'))\n"
   ]
  },
  {
   "cell_type": "code",
   "execution_count": 177,
   "metadata": {},
   "outputs": [
    {
     "data": {
      "text/latex": [
       "$\\displaystyle \\vec{e}^u = \\hat{i}/2 + \\hat{j}/2$"
      ],
      "text/plain": [
       "<IPython.core.display.Math object>"
      ]
     },
     "metadata": {},
     "output_type": "display_data"
    },
    {
     "data": {
      "text/latex": [
       "$\\displaystyle \\vec{e}^u = \\hat{i}/2 + \\hat{j}/2$"
      ],
      "text/plain": [
       "<IPython.core.display.Math object>"
      ]
     },
     "metadata": {},
     "output_type": "display_data"
    },
    {
     "data": {
      "text/latex": [
       "$\\displaystyle \\vec{e}^u = \\hat{i}/2 + \\hat{j}/2$"
      ],
      "text/plain": [
       "<IPython.core.display.Math object>"
      ]
     },
     "metadata": {},
     "output_type": "display_data"
    }
   ],
   "source": [
    "display(Math(f'{eu} = {gradu.dot(b).subs([(x,u+v),(y,u-v),(z,2*u*v+w)])}'))\n",
    "display(Math(f'{eu} = {gradu.dot(b).subs([(x,u+v),(y,u-v),(z,2*u*v+w)])}'))\n",
    "display(Math(f'{eu} = {gradu.dot(b).subs([(x,u+v),(y,u-v),(z,2*u*v+w)])}'))"
   ]
  },
  {
   "cell_type": "code",
   "execution_count": 178,
   "metadata": {},
   "outputs": [
    {
     "name": "stdout",
     "output_type": "stream",
     "text": [
      "\\vec{e}^w=- \\hat{i} x + \\hat{j} y + \\hat{k}\n"
     ]
    }
   ],
   "source": [
    "print(f'{latex(ew)}={latex(gradw.dot(b))}')"
   ]
  },
  {
   "cell_type": "code",
   "execution_count": 179,
   "metadata": {},
   "outputs": [
    {
     "name": "stdout",
     "output_type": "stream",
     "text": [
      "- \\hat{i} \\left(u + v\\right) + \\hat{j} \\left(u - v\\right) + \\hat{k}\n"
     ]
    }
   ],
   "source": [
    "print_latex(gradw.dot(b).subs([(x,u+v),(y,u-v),(z,2*u*v+w)]))"
   ]
  },
  {
   "cell_type": "code",
   "execution_count": 180,
   "metadata": {},
   "outputs": [],
   "source": [
    "eu_symbol = eu\n",
    "ev_symbol = ev\n",
    "ew_symbol = ew"
   ]
  },
  {
   "cell_type": "code",
   "execution_count": 184,
   "metadata": {},
   "outputs": [
    {
     "data": {
      "text/latex": [
       "$\\displaystyle \\frac{1}{2}$"
      ],
      "text/plain": [
       "1/2"
      ]
     },
     "execution_count": 184,
     "metadata": {},
     "output_type": "execute_result"
    }
   ],
   "source": [
    "eu = gradu.dot(b).subs([(x,u+v),(y,u-v),(z,2*u*v+w)])\n",
    "ev = gradu.dot(b).subs([(x,u+v),(y,u-v),(z,2*u*v+w)])\n",
    "ew = gradu.dot(b).subs([(x,u+v),(y,u-v),(z,2*u*v+w)])\n",
    "gradu.dot(gradu)"
   ]
  },
  {
   "cell_type": "code",
   "execution_count": 186,
   "metadata": {},
   "outputs": [
    {
     "data": {
      "text/latex": [
       "$\\displaystyle \\frac{1}{2}$"
      ],
      "text/plain": [
       "1/2"
      ]
     },
     "execution_count": 186,
     "metadata": {},
     "output_type": "execute_result"
    }
   ],
   "source": [
    "eu = gradu.subs([(x,u+v),(y,u-v),(z,2*u*v+w)])\n",
    "ev = gradu.subs([(x,u+v),(y,u-v),(z,2*u*v+w)])\n",
    "ew = gradu.subs([(x,u+v),(y,u-v),(z,2*u*v+w)])\n",
    "eu.dot(eu)"
   ]
  }
 ],
 "metadata": {
  "kernelspec": {
   "display_name": "Python 3",
   "language": "python",
   "name": "python3"
  },
  "language_info": {
   "codemirror_mode": {
    "name": "ipython",
    "version": 3
   },
   "file_extension": ".py",
   "mimetype": "text/x-python",
   "name": "python",
   "nbconvert_exporter": "python",
   "pygments_lexer": "ipython3",
   "version": "3.10.9"
  }
 },
 "nbformat": 4,
 "nbformat_minor": 2
}

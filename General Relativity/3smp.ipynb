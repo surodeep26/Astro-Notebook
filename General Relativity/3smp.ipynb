{
 "cells": [
  {
   "cell_type": "code",
   "execution_count": 24,
   "metadata": {},
   "outputs": [
    {
     "data": {
      "text/latex": [
       "$\\displaystyle \\vec{e}_r\\cdot\\vec{e}_r = 1$"
      ],
      "text/plain": [
       "<IPython.core.display.Math object>"
      ]
     },
     "metadata": {},
     "output_type": "display_data"
    },
    {
     "data": {
      "text/latex": [
       "$\\displaystyle \\vec{e}_\\theta\\cdot\\vec{e}_\\theta = r^{2}$"
      ],
      "text/plain": [
       "<IPython.core.display.Math object>"
      ]
     },
     "metadata": {},
     "output_type": "display_data"
    },
    {
     "data": {
      "text/latex": [
       "$\\displaystyle \\vec{e}_\\phi\\cdot\\vec{e}_\\phi = r^{2} \\sin^{2}{\\left(\\theta \\right)}$"
      ],
      "text/plain": [
       "<IPython.core.display.Math object>"
      ]
     },
     "metadata": {},
     "output_type": "display_data"
    }
   ],
   "source": [
    "from sympy import *\n",
    "from IPython.display import display,Math\n",
    "x,y,z = symbols(\"x y z\", cls=Function)\n",
    "r,theta,phi = symbols(r\"r \\theta \\phi\")\n",
    "r_vector_symbol = symbols(r\"\\vec{r}\")\n",
    "x = r*sin(theta)*cos(phi)\n",
    "y = r*sin(theta)*sin(phi)\n",
    "z = r*cos(theta)\n",
    "r_vector = Matrix([x,y,z])\n",
    "dr_vectordr_symbol = symbols(r'\\frac{\\partial{\\vec{r}}}{\\partial{r}}')\n",
    "dr_vectordtheta_symbol = symbols(r'\\frac{\\partial{\\vec{r}}}{\\partial{\\theta}}')\n",
    "dr_vectordphi_symbol = symbols(r'\\frac{\\partial{\\vec{r}}}{\\partial{\\phi}}')\n",
    "dr_vectordr = diff(r_vector,r)\n",
    "dr_vectordtheta = diff(r_vector,theta)\n",
    "dr_vectordphi = diff(r_vector,phi)\n",
    "\n",
    "er_symbol, etheta_symbol, ephi_symbol = symbols(r'\\vec{e}_r \\vec{e}_\\theta \\vec{e}_\\phi')\n",
    "er = dr_vectordr\n",
    "etheta = dr_vectordtheta\n",
    "ephi = dr_vectordphi\n",
    "\n",
    "display(Math(f'{er_symbol}\\cdot{er_symbol} = {latex(er.dot(er).simplify())}'))\n",
    "display(Math(f'{etheta_symbol}\\cdot{etheta_symbol} = {latex(etheta.dot(etheta).simplify())}'))\n",
    "display(Math(f'{ephi_symbol}\\cdot{ephi_symbol} = {latex(ephi.dot(ephi).simplify())}'))"
   ]
  }
 ],
 "metadata": {
  "kernelspec": {
   "display_name": "Python 3",
   "language": "python",
   "name": "python3"
  },
  "language_info": {
   "codemirror_mode": {
    "name": "ipython",
    "version": 3
   },
   "file_extension": ".py",
   "mimetype": "text/x-python",
   "name": "python",
   "nbconvert_exporter": "python",
   "pygments_lexer": "ipython3",
   "version": "3.10.9"
  }
 },
 "nbformat": 4,
 "nbformat_minor": 2
}
